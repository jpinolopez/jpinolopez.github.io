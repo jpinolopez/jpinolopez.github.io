{
 "cells": [
  {
   "cell_type": "markdown",
   "metadata": {},
   "source": [
    "# Homework 11"
   ]
  },
  {
   "cell_type": "markdown",
   "metadata": {},
   "source": [
    "*Enter your name and EID here*\n",
    "\n",
    "**This homework is due on Dec 6 at 11:59pm. (Last one!) Please submit as an HTML file on Canvas. Before submission, please re-run all cells by clicking \"Kernel\" and selecting \"Restart & Run All\". Then download as an HTML file**\n",
    "\n",
    "**Problem 1**\n",
    "The following presents you with several real-world strings. Your task is to use regular expressions in python to match (and return) the requested parts in each. \n",
    "\n",
    "NOTE: these examples are taken in part from a regex game http://play.inginf.units.it/#/level/1\n",
    "\n",
    "I would strongly encourage you to try and play the game first; adapting it to python is as easy as putting your working regex in `re.findall()`\n"
   ]
  },
  {
   "cell_type": "markdown",
   "metadata": {},
   "source": [
    "**Problem 1a (1 pt)**: Using `re.findall()`, match all numbers and pull them from the following string (string1). Your results should look like this.  \n",
    "`['12',\n",
    " '47',\n",
    " '48',\n",
    " '189',\n",
    " '2036',\n",
    " '314',\n",
    " '125',\n",
    " '789',\n",
    " '1450',\n",
    " '564',\n",
    " '90456',\n",
    " '7890']`"
   ]
  },
  {
   "cell_type": "code",
   "execution_count": null,
   "metadata": {},
   "outputs": [],
   "source": [
    "import re\n",
    "\n",
    "string1=\"We have to extract these numbers 12, 47, 48 The integers numbers are also interesting: 189 2036 314\\',\\' is a separator, so please extract these numbers 125,789,1450 and also these 564,90456 We like to offer you 7890$ per month in order to complete this task... we are joking\"\n",
    "print(string1)\n",
    "\n",
    "# your code here"
   ]
  },
  {
   "cell_type": "markdown",
   "metadata": {},
   "source": [
    "**Problem 1b (1 pt)**: Using `re.findall()`, match all IP addressses in this string (string2). Your results should look like this:  \n",
    "`['213.92.153.167',\n",
    " '69.43.107.219',\n",
    " '69.43.112.233',\n",
    " '217.70.100.113',\n",
    " '74.125.186.208',\n",
    " '74.125.186.208',\n",
    " '140.105.63.158',\n",
    " '172.45.240.237',\n",
    " '217.70.177.60',\n",
    " '216.34.90.16',\n",
    " '69.43.85.253',\n",
    " '213.121.184.130',\n",
    " '213.121.184.130',\n",
    " '140.105.63.164']`"
   ]
  },
  {
   "cell_type": "code",
   "execution_count": null,
   "metadata": {},
   "outputs": [],
   "source": [
    "string2=\"Jan 13 00:48:59: DROP service 68->67(udp) from 213.92.153.167 to 69.43.107.219, prefix: \\\"spoof iana-0/8\\\" \\\n",
    "(in: eth0 69.43.112.233(38:f8:b7:90:45:92):68 -> 217.70.100.113(00:21:87:79:9c:d9):67 UDP len:576 ttl:64) \\\n",
    "Jan 13 12:02:48: ACCEPT service dns from 74.125.186.208 to firewall(pub-nic-dns), prefix: \\\"none\\\" \\\n",
    "(in: eth0 74.125.186.208(00:1a:e3:52:5d:8e):36008 -> 140.105.63.158(00:1a:9a:86:2e:62):53 UDP len:82 ttl:38) \\\n",
    "Jan 13 17:44:52: DROP service 68->67(udp) from 172.45.240.237 to 217.70.177.60, prefix: \\\"spoof iana-0/8\\\" \\\n",
    "(in: eth0 216.34.90.16(00:21:91:fe:a2:6f):68 -> 69.43.85.253(00:07:e1:7c:53:db):67 UDP len:328 ttl:64) \\\n",
    "Jan 13 17:52:08: ACCEPT service http from 213.121.184.130 to firewall(pub-nic), prefix: \\\"none\\\" \\\n",
    "(in: eth0 213.121.184.130(00:05:2e:6a:a4:14):8504 -> 140.105.63.164(00:60:11:92:ed:1b):80 TCP flags: ****S* len:52 ttl:109)\"\n",
    "\n",
    "#your code here"
   ]
  },
  {
   "cell_type": "markdown",
   "metadata": {},
   "source": [
    "**Problem 1c (1 pt)**: Using `re.findall()`, match all MAC addressses in the same string (string2). Your results should look like this:  \n",
    "`['38:f8:b7:90:45:92',\n",
    " '00:21:87:79:9c:d9',\n",
    " '00:1a:e3:52:5d:8e',\n",
    " '00:1a:9a:86:2e:62',\n",
    " '00:21:91:fe:a2:6f',\n",
    " '00:07:e1:7c:53:db',\n",
    " '00:05:2e:6a:a4:14',\n",
    " '00:60:11:92:ed:1b']`"
   ]
  },
  {
   "cell_type": "code",
   "execution_count": null,
   "metadata": {
    "scrolled": true
   },
   "outputs": [],
   "source": [
    "#your code here"
   ]
  },
  {
   "cell_type": "markdown",
   "metadata": {},
   "source": [
    "**Problem 1d (1 pt)**: Using `re.findall()`, match all html links (text of the form href=\"...\") in the string below (string3). Your results should look like this:\n",
    "\n",
    "`['href=\"javascript:openurl(\\'/Xplore/accessinfo.jsp\\')\"',\n",
    " 'href=\"/iel5/4235/4079606/04079617.pdf?tp=&arnumber=4079617&isnumber=4079606\"',\n",
    " \"href='/xpl/RecentCon.jsp?punumber=10417'\",\n",
    " 'href=\"/xplorehelp/Help_start.html#Help_searchresults.html\"',\n",
    " 'href=\"/xpl/contactus.jsp\"',\n",
    " 'href=\"http://search.epnet.com/login.asp?profile=web&amp;defaultdb=geh\"',\n",
    " 'href=\"http://iimpft.chadwyck.com/\"',\n",
    " 'href=\"standartlar.html#tse\"',\n",
    " 'href=\"http://www.gutenberg.org/\"',\n",
    " 'href=\"http://proquestcombo.safaribooksonline.com/?portal=proquestcombo&amp;uicode=istanbultek\"',\n",
    " 'href=\"http://www.scitation.org\"',\n",
    " 'href=\"/online/aip.html\"',\n",
    " 'href=\"http://www3.interscience.wiley.com/journalfinder.html\"',\n",
    " 'href=\"/xpl/periodicals.jsp\"',\n",
    " 'href=\"http://www.ieee.org/products/onlinepubs/resources/XploreTutorial.pdf\"']`\n"
   ]
  },
  {
   "cell_type": "code",
   "execution_count": null,
   "metadata": {},
   "outputs": [],
   "source": [
    "string3=\"<a href=\\\"javascript:openurl('/Xplore/accessinfo.jsp')\\\" class=\\\"topUnderlineLinks\\\">\\\n",
    "                                            <A href=\\\"/iel5/4235/4079606/04079617.pdf?tp=&arnumber=4079617&isnumber=4079606\\\" class=\\\"bodyCopy\\\">PDF</A>(3141 KB)&nbsp;\\\n",
    "                        <A href='/xpl/RecentCon.jsp?punumber=10417'>Evolutionary Computation, 2005. The 2005 IEEE Congress on</A><br>\\\n",
    "                <td width=\\\"33%\\\" ><div align=\\\"right\\\"> <a href=\\\"/xplorehelp/Help_start.html#Help_searchresults.html\\\" class=\\\"subNavLinks\\\" target=\\\"blank\\\">Help</a>&nbsp;&nbsp;&nbsp;<a href=\\\"/xpl/contactus.jsp\\\" class=\\\"subNavLinks\\\">Contact\\\n",
    "                Kimya ile ilgili çeþitli temel referans\\\n",
    "<a href=\\\"http://search.epnet.com/login.asp?profile=web&amp;defaultdb=geh\\\"\\\n",
    "<a href=\\\"http://iimpft.chadwyck.com/\\\" target=\\\"_parent\\\">International\\\n",
    "<a href=\\\"standartlar.html#tse\\\" target=\\\"_parent\\\">NFPA Standartlarý</a>\\\n",
    "<a href=\\\"http://www.gutenberg.org/\\\" target=\\\"_parent\\\">Project Gutenberg</a>\\\n",
    "<a href=\\\"http://proquestcombo.safaribooksonline.com/?portal=proquestcombo&amp;uicode=istanbultek\\\"\\\n",
    "<a href=\\\"http://www.scitation.org\\\" target=\\\"_parent\\\">Scitation</a>\\\n",
    "dergilerin listesini görmek için <a href=\\\"/online/aip.html\\\">bu yolu</a>\\\n",
    "<a href=\\\"http://www3.interscience.wiley.com/journalfinder.html\\\"\\\n",
    "               <td width=\\\"46%\\\"><a href=\\\"/xpl/periodicals.jsp\\\" class=\\\"dropDownNav\\\" accesskey=\\\"j\\\">Journals &amp; Magazines\\\n",
    "               <td><a href=\\\"http://www.ieee.org/products/onlinepubs/resources/XploreTutorial.pdf\\\" class=\\\"dropDownNav\\\">IEEE Xplore Demo</a></td>\"\n",
    "\n",
    "\n",
    "#your code here\n"
   ]
  },
  {
   "cell_type": "markdown",
   "metadata": {},
   "source": [
    "**Problem 1e (1 pt)**: Using `re.findall()`, match all urls in the string below (string4). Your results should look like this:  \n",
    "`['http://www.classmates.com/go/e/200988231/CC123101BT/CM00',\n",
    " 'http://graphics.classmates.com/graphics/spacer.gif',\n",
    " 'http://graphics.classmates.com/graphics/sp',\n",
    " 'http://itcapps.corp.enron.com/srrs/auth/emailLink.asp?ID=000000000053239&Page=Approval',\n",
    " 'http://www.enrononline.com',\n",
    " 'http://www.classmates.com/go/e/200988231/CC122401BC/CM00',\n",
    " 'http://graphics.classmates.com/graphics/spacer.gif',\n",
    " 'http://graphics.classmates.com/graphics/sphttp://www.btinternet.com/~pir8/arnie/n,',\n",
    " 'http://zzz1.net/rd/rd.asp?ZXU=562&ZXD=1471085&UID=1471085',\n",
    " 'http://www.egroups.com',\n",
    " 'http://isc.enron.com/site/doclibrary/user/',\n",
    " 'http://esource.enron.com/worldmarket.asp',\n",
    " 'http://esource.enron.com/worldmarket_CountryAnalysis.asp',\n",
    " 'http://ad.doubleclick.net/clk;3549492;6600300;c?http://www.sportingbetusa.com/english/casino/casinonew-fr.asp?isLogged=notlogged',\n",
    " 'http://ad.doubleclick.net/clk;3549492;6600300;c?http://www.sportingbetusa.c',\n",
    " 'http://isc.enron.com/site/']`"
   ]
  },
  {
   "cell_type": "code",
   "execution_count": null,
   "metadata": {},
   "outputs": [],
   "source": [
    "string4=\"<http://www.classmates.com/go/e/200988231/CC123101BT/CM00>  <http://graphics.classmates.com/graphics/spacer.gif>  <http://graphics.classmates.com/graphics/sp \\\n",
    "You have received this email because the requester specified you as their Manager. Please click http://itcapps.corp.enron.com/srrs/auth/emailLink.asp?ID=000000000053239&Page=Approval to review and act upon this request.     Request ID          : 000000000053239 Request Create Date\\\n",
    "ronOnline.   The following User ID and Password will give you access to live prices on the web-site http://www.enrononline.com.  User ID: ADM40601 Password: WELCOME!   (note these are case sensitive)    Please keep your User I\\\n",
    "<http://www.classmates.com/go/e/200988231/CC122401BC/CM00>  <http://graphics.classmates.com/graphics/spacer.gif>  <http://graphics.classmates.com/graphics/sp\\\n",
    "http://www.btinternet.com/~pir8/arnie/\\\n",
    "n, just click on the following hyperlink and complete the order form by Tuesday February 12, 2002.  http://zzz1.net/rd/rd.asp?ZXU=562&ZXD=1471085&UID=1471085  If you cannot link directly to the web site, simply cut and paste the address listed above into yo\\\n",
    "been successful getting in the group. To access the group should go to your web browser and type in http://www.egroups.com  The screen should show that you are a member of smu-betas group. When you replied to the original \\\n",
    "mber and password. For more details on how to log-on to eHRonline, see step-by-step instructions at http://isc.enron.com/site/doclibrary/user/ 2. Navigate to the pay advice using the following navigation menus: ? Pay Information ? Paycheck I\\\n",
    "In addition to World Markets Energy information  <http://esource.enron.com/worldmarket.asp> and Country Analysis and Forecasting, <http://esource.enron.com/worldmarket_CountryAnalysis.asp>  \\\n",
    "<http://ad.doubleclick.net/clk;3549492;6600300;c?http://www.sportingbetusa.com/english/casino/casinonew-fr.asp?isLogged=notlogged> A WEEKEND PAIR-A-DICE <http://ad.doubleclick.net/clk;3549492;6600300;c?http://www.sportingbetusa.c \\\n",
    "Mr. Skilling:  Your P number is P00500599.  For your convenience, you can also go to http://isc.enron.com/site/ under\"\n",
    "\n",
    "\n",
    "#your code here"
   ]
  },
  {
   "cell_type": "markdown",
   "metadata": {},
   "source": [
    "**Question 2 (3 pts)**: In the following string (string6), using `re.findall()`, match restriction enzyme binding sites ANTAAT and GCRWTG. \n",
    "\n",
    "Note that per the IUPAC nucleotide code, N is any base, R is A or G, W is A or T\n",
    "\n",
    "How many cuts total in the sequence do you expect if you digest with both of these restriction enzymes? How many fragments do you expect?"
   ]
  },
  {
   "cell_type": "code",
   "execution_count": null,
   "metadata": {},
   "outputs": [],
   "source": [
    "string5=\"ATGGCAATAACCCCCCGTTTCTACTTCTAGAGGAGAAAAGTATTGACATGAGCGCTCCCGGCACAAGGGCCAAAGAAGTCTCCAATTTCTTATTTCCGAATGACATGCGTCTCCTTGCGGGTAAATCACCGACCGCAATTCATAGAAGCCTGGGGGAACAGATAGGTCTAATTAGCTTAAGAGAGTAAATCCTGGGATCATTCAGTAGTAACCATAAACTTACGCTGGGGCTTCTTCGGCGGATTTTTACAGTTACCAACCAGGAGATTTGAAGTAAATCAGTTGAGGATTTAGCCGCGCTATCCGGTAATCTCCAAATTAAAACATACCGTTCCATGAAGGCTAGAATTACTTACCGGCCTTTTCCATGCCTGCGCTATACCCCCCCACTCTCCCGCTTATCCGTCCGAGCGGAGGCAGTGCGATCCTCCGTTAAGATATTCTTACGTGTGACGTAGCTATGTATTTTGCAGAGCTGGCGAACGCGTTGAACACTTCACAGATGGTAGGGATTCGGGTAAAGGGCGTATAATTGGGGACTAACATAGGCGTAGACTACGATGGCGCCAACTCAATCGCAGCTCGAGCGCCCTGAATAACGTACTCATCTCAACTCATTCTCGGCAATCTACCGAGCGACTCGATTATCAACGGCTGTCTAGCAGTTCTAATCTTTTGCCAGCATCGTAATAGCCTCCAAGAGATTGATGATAGCTATCGGCACAGAACTGAGACGGCGCCGATGGATAGCGGACTTTCGGTCAACCACAATTCCCCACGGGACAGGTCCTGCGGTGCGCATCACTCTGAATGTACAAGCAACCCAAGTGGGCCGAGCCTGGACTCAGCTGGTTCCTGCGTGAGCTCGAGACTCGGGATGACAGCTCTTTAAACATAGAGCGGGGGCGTCGAACGGTCGAGAAAGTCATAGTACCTCGGGTACCAACTTACTCAGGTTATTGCTTGAAGCTGTACTATTTTAGGGGGGGAGCGCTGAAGGTCTCTTCTTCTCATGACTGAACTCGCGAGGGTCGTGAAGTCGGTTCCTTCAATGGTTAAAAAACAAAGGCTTACTGTGCGCAGAGGAACGCCCATCTAGCGGCTGGCGTCTTGAATGCTCGGTCCCCTTTGTCATTCCGGATTAATCCATTTCCCTCATTCACGAGCTTGCGAAGTCTACATTGGTATATGAATGCGACCTAGAAGAGGGCGCTTAAAATTGGCAGTGGTTGATGCTCTAAACTCCATTTGGTTTACTCGTGCATCACCGCGATAGGCTGACAAAGGTTTAACATTGAATAGCAAGGCACTTCCGGTCTCAATGAACGGCCGGGAAAGGTACGCGCGCGGTATGGGAGGATCAAGGGGCCAATAGAGAGGCTCCTCTCTCACTCGCTAGGAGGCAAATGTAAAACAATGGTTACTGCATCGATACATAAAACATGTCCATCGGTTGCCCAAAGTGTTAAGTGTCTATCACCCCTAGGGCCGTTTCCCGCATATAAACGCCAGGTTGTATCCGCATTTGATGCTACCGTGGATGAGTCTGCGTCGAGCGCGCCGCACGAATGTTGCAATGTATTGCATGAGTAGGGTTGACTAAGAGCCGTTAGATGCGTCGCTGTACTAATAGTTGTCGACAGACCGTCGAGATTAGAAAATGGTACCAGCATTTTCGGAGGTTCTCTAACTAGTATGGATTGCGGTGTCTTCACTGTGCTGCGGCTACCCATCGCCTGAAATCCAGCTGGTGTCAAGCCATCCCCTCTCCGGGACGCCGCATGTAGTGAAACATATACGTTGCACGGGTTCACCGCGGTCCGTTCTGAGTCGACCAAGGACACAATCGAGCTCCGATCCGTACCCTCGACAAACTTGTACCCGACCCCCGGAGCTTGCCAGCTCCTCGGGTATCATGGAGCCTGTGGTTCATCGCGTCCGATATCAAACTTCGTCATGATAAAGTCCCCCCCTCGGGAGTACCAGAGAAGATGACTACTGAGTTGTGCGAT\"\n",
    "\n",
    "#your code here"
   ]
  },
  {
   "cell_type": "markdown",
   "metadata": {},
   "source": [
    "**Question 2 OPTIONAL BONUS (2 pts)**: This question is optional and may be somewhat difficult, so save it for the end if you attempt it! Note that we will not be giving help on the bonus: you are on your own if you attempt it!\n",
    "\n",
    "Assume the restriction enzymes cut the sequence (string7, above) bluntly at the midpoint of the binding site \\, so ANT\\ATT and GCR\\WTG. Using `re.split()`, cut the sequence at the cut points to digest the sequence,  yielding the correct fragments. You might find that two separate `re.split()` commands is the easier way to go, but this my require a loop. Once you have the correct fragments, then use the `count_chars()` function from class to count the number of each base in each fragment. Modify it to additionally report the total length of each fragment.  "
   ]
  },
  {
   "cell_type": "code",
   "execution_count": null,
   "metadata": {
    "scrolled": true
   },
   "outputs": [],
   "source": [
    "# your code here"
   ]
  },
  {
   "cell_type": "markdown",
   "metadata": {},
   "source": [
    "**Question 3 (3 pts)** \n",
    "\n",
    "Take the following paragraph (string6) and remove punctuation marks `[.—,;']` with `re.sub()`. That is, replace them with `\"\"`.\n",
    "\n",
    "Split resulting string into a list of words with `re.split()` (split at any whitespace character)\n",
    "\n",
    "Loop through the resulting list and make every word lower-case with `.lower()`. You can do this in several ways: create an empty list outside of your loop and then use `.append()` inside, for example. \n",
    "\n",
    "Apply the `count_chars()` function from class to the resulting lower-case list: notice that it counts the words for you!  "
   ]
  },
  {
   "cell_type": "code",
   "execution_count": null,
   "metadata": {
    "scrolled": true
   },
   "outputs": [],
   "source": [
    "string6=\"Call me Ishmael. Some years ago — never mind how long precisely — having little or no money in my purse, and nothing particular to interest me on shore, I thought I would sail about a little and see the watery part of the world. It is a way I have of driving off the spleen, and regulating the circulation. Whenever I find myself growing grim about the mouth; whenever it is a damp, drizzly November in my soul; whenever I find myself involuntarily pausing before coffin warehouses, and bringing up the rear of every funeral I meet; and especially whenever my hypos get such an upper hand of me, that it requires a strong moral principle to prevent me from deliberately stepping into the street, and methodically knocking people’s hats off — then, I account it high time to get to sea as soon as I can. This is my substitute for pistol and ball. With a philosophical flourish Cato throws himself upon his sword; I quietly take to the ship. There is nothing surprising in this. If they but knew it, almost all men in their degree, some time or other, cherish very nearly the same feelings towards the ocean with me.\"\n",
    "\n",
    "#your code here"
   ]
  },
  {
   "cell_type": "markdown",
   "metadata": {},
   "source": [
    "**Question 4a (5 points):** In bioinformatics, k-mers refer to all the possible subsequences (of length k) from a read obtained through DNA sequencing. For example, if the DNA sequencing read is \"ATCATCATG\", then a the 3-mers in that read include \"ATC\" (which occurs twice), \"TCA\" (which occurs twice), \"CAT\" (occurs twice), and \"ATG\" (occurs once). You can read more about k-mers on [Wikipedia](https://en.wikipedia.org/wiki/K-mer).\n",
    "\n",
    "Write a function that takes a string of nucleotides as input and returns a **dictionary** with all 3-mers present in that string, and the number of times that each 3-mer occurs. Then use your function to find the 3-mers in the DNA sequence `my_seq1` and `my_seq2` defined below.\n",
    "\n",
    "The output of your function should be a dictionary that is structured like this (although it will have several more entries)\n",
    "\n",
    "`{\"CAG\": 2, \"AGC\": 1, \"GCC\": 3}`\n",
    "\n",
    "where each key is a 3-mer itself (e.g., \"ATC\") and each value is the number of times that 3-mer occurs.\n"
   ]
  },
  {
   "cell_type": "code",
   "execution_count": null,
   "metadata": {},
   "outputs": [],
   "source": [
    "my_seq1 = \"ATCATCATG\"\n",
    "my_seq2 = \"CAGCCCAATCAGGCTCTACTGCCACTAAACTTACGCAGGATATATTTACGCCGACGTACT\"\n",
    "\n",
    "# Your code goes here"
   ]
  },
  {
   "cell_type": "markdown",
   "metadata": {},
   "source": [
    "**Question 4b (3 points):** DNA sequences are typically stored in a format called FASTA (pronounced fast-ay). A single FASTA file may contain many different sequences. For example, you may have a FASTA file for a mouse, and each mouse gene sequence is stored as a separate sequence in that FASTA file. All sequences in a FASTA file begin on a new line with a greater-than symbol \"`>`\" (without quotes). \n",
    "\n",
    "Write a function that takes the *name* of a FASTA file as input, opens that file, counts the number of sequences in the file (by counting the number of lines in the file that start with a “>” symbol), and returns the count. Download the file \"[ls_orchid.fasta](https://raw.githubusercontent.com/biopython/biopython/master/Doc/examples/ls_orchid.fasta)\" to your computer (should also be on Canvas and on the servers), upload it to your home directory, and use your function to count the number of sequences in the file (by determining the number of greater-than symbols. The file `ls_orchid.fasta` contains nucleotide database results for lady slipper orchids. Test your function on that! Now use the function on the file `CD4.fasta` (on Canvas and on the servers). This file contains amino acid sequences of the CD4 membrane protein that is found on the surface of the immune cells.\n",
    "\n",
    "Using `re.findall()` and `len()`, how many sequences does each fasta file contain?"
   ]
  },
  {
   "cell_type": "code",
   "execution_count": null,
   "metadata": {},
   "outputs": [],
   "source": [
    "#The following code opens the file, reads it into contents, and closes the file\n",
    "\n",
    "file_handle = open(\"ls_orchid.fasta\", \"r\") # open in 'r' mode  to read the file\n",
    "contents = file_handle.read() # reads the entire file \n",
    "file_handle.close() # always close at the end\n",
    "\n",
    "# your code here"
   ]
  },
  {
   "cell_type": "markdown",
   "metadata": {},
   "source": [
    "**Question 4c (1 points):** Often, you will use the biopython package to parse sequences (it makes it much easier)! Take a look at the following code and make sure the number of sequences it returns matches what your function found above (it is returning some extra stuff too). Modify it to give the same output for the CD4.fasta file and to print out the first 30 elements of each sequence."
   ]
  },
  {
   "cell_type": "code",
   "execution_count": null,
   "metadata": {},
   "outputs": [],
   "source": [
    "#!pip3 install biopython # or conda install biopython #if you are not on the servers\n",
    "\n",
    "from Bio import SeqIO\n",
    "\n",
    "nseqs=0\n",
    "for seq_record in SeqIO.parse(\"ls_orchid.fasta\", \"fasta\"):\n",
    "    nseqs+=1\n",
    "    print(\"sequence\",nseqs,\"is\",len(seq_record),\\\n",
    "          \"long, and the first 5 elements are\",seq_record.seq[:5] )\n",
    "print(\"the number of sequences is\", nseqs)"
   ]
  }
 ],
 "metadata": {
  "kernelspec": {
   "display_name": "Python 3",
   "language": "python",
   "name": "python3"
  },
  "language_info": {
   "codemirror_mode": {
    "name": "ipython",
    "version": 3
   },
   "file_extension": ".py",
   "mimetype": "text/x-python",
   "name": "python",
   "nbconvert_exporter": "python",
   "pygments_lexer": "ipython3",
   "version": "3.6.9"
  }
 },
 "nbformat": 4,
 "nbformat_minor": 1
}
